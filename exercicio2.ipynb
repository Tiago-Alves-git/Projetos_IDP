{
 "cells": [
  {
   "cell_type": "code",
   "execution_count": null,
   "metadata": {},
   "outputs": [],
   "source": [
    "import pandas as pd\n",
    "import seaborn as sns\n",
    "import matplotlib.pyplot as plt\n",
    "\n",
    "\n",
    "# Carrega os dados do arquivo CSV\n",
    "dados = pd.read_csv('TabelaSalarial.csv')\n",
    "dados.head()\n",
    "dados.describe()\n",
    "\n",
    "# Identifica as colunas categóricas e numéricas\n",
    "dados_numericos = dados.select_dtypes(include=['float64', 'int64'])\n",
    "dados_categoricos = dados.select_dtypes(exclude=['float64', 'int64'])\n",
    "\n",
    "sns.histplot(dados, x=\"Salario (x Sal Min)\", hue=\"Grau de Instrução\", multiple=\"stack\")\n",
    "plt.suptitle('Histogramas das Variáveis Salario e Instrução', fontsize=16)\n",
    "plt.show()\n",
    "\n",
    "sns.histplot(dados, x = \"Salario (x Sal Min)\", kde = True, hue = \"Grau de Instrução\")\n",
    "plt.suptitle('Histogramas das Variáveis Salario e Instrução com HUE ativada', fontsize=16)\n",
    "plt.show()\n",
    "\n",
    "\n",
    "# Não tive muita criatividade em 1 dia para pensar em uma analise diferente das que foram apresentadas em sala. Então fiz essa simples\n",
    "# Usando tabelas e gráficos de dados de Instrução e Salario, percebemos que normalmente funcionarios que apresentam ensinos superiores tendem a ganhar mais \n",
    "# e o unico a ganhar mais de 20salarios tem ensino superior.\n",
    "# Tambem é possivel afirmar que conforme maior grau de instrução, a linha de contorno kde tende a ficar cada vez mais proxima do centro"
   ]
  }
 ],
 "metadata": {
  "language_info": {
   "name": "python"
  }
 },
 "nbformat": 4,
 "nbformat_minor": 2
}
