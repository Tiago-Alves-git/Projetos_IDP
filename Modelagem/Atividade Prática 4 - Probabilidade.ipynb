{
 "cells": [
  {
   "cell_type": "markdown",
   "id": "ab81c07f",
   "metadata": {},
   "source": [
    "# Probabilidade\n",
    "\n",
    "## Distribuições de Probabilidade\n",
    "\n",
    "João e Maria estão jogando RPG, um jogo de imaginação em que as regras do mundo são ditadas por jogadas de dados. Para saber se um ataque foi bem sucedido, um dado de seis faces é jogado. Se o resultado for o número 1 ou 2, o ataque terá sido bem sucedido. O mesmo para calcular o dano, roda-se um dado e o valor será o dano causado pelo ataque bem sucedido. Podem-se utilizar mais de um dado em um ataque, por exemplo, 2 dados de 6 faces ou 1 dado de 12 faces.\n",
    "\n",
    "Maria acredita que jogadas que usam mais de um dado são superiores a jogadas de um dado com número de faces iguais ao número total de faces dos dois dados para causar dano. Se seu objetivo é causar o maior dano possível, com dois dados o dano mínimo é maior que com um dado. Por exemplo, sempre que ela precisar escolher um teste de dano, ela deveria escolher a opção com dois dados, pois o resultado mínimo será 2, enquanto com 1 dado de 12 faces, o valor mínimo é 1. Assim, em média, o dano causado por 2 dados de 6 faces é maior que o dano médio do dado de 12 faces.\n",
    "\n",
    "Não só isso, como ela acredita que a distribuição de frequência dos valores nesses casos será diferente e que para testes de probabilidade simples, como saber se um ataque foi bem sucedido, é melhor usar apenas um dado, e será mais justo, pois cada face tem a mesma probabilidade de ocorrência. \n",
    "\n",
    "João discorda e começa a jogar dados e conferir os resultados para checar as intuições e pensamento matemático de Maria.\n",
    "\n",
    "### Instruções\n",
    "\n",
    "Escreva um programa que simule a jogada de 10 mil dados e calcule o valor esperado para cadas uma das opções:\n",
    " - 1 dado de 12 faces\n",
    " - 2 dados de 6 faces\n",
    " \n",
    "Construa um gráfico de barras para cada opção com o número de vezes que cada face foi lançada.\n"
   ]
  },
  {
   "cell_type": "code",
   "execution_count": null,
   "id": "e02726b9",
   "metadata": {},
   "outputs": [
    {
     "ename": "",
     "evalue": "",
     "output_type": "error",
     "traceback": [
      "\u001b[1;31mThe kernel failed to start as the Python Environment 'Python 3.12.5' is no longer available. Consider selecting another kernel or refreshing the list of Python Environments."
     ]
    }
   ],
   "source": [
    "%pip install numpy matplotlib"
   ]
  },
  {
   "cell_type": "code",
   "execution_count": null,
   "id": "f1d21666",
   "metadata": {},
   "outputs": [],
   "source": [
    "import numpy as np\n",
    "import matplotlib.pyplot as plt\n",
    "\n",
    "# Definir o número de simulações\n",
    "num_simulacoes = 10000\n",
    "\n",
    "# Simulando jogadas para 1 dado de 12 faces\n",
    "jogadas_d12 = np.random.randint(1, 13, num_simulacoes)\n",
    "\n",
    "# Simulando jogadas para 2 dados de 6 faces\n",
    "jogadas_d6_1 = np.random.randint(1, 7, num_simulacoes)\n",
    "jogadas_d6_2 = np.random.randint(1, 7, num_simulacoes)\n",
    "jogadas_2d6 = jogadas_d6_1 + jogadas_d6_2\n",
    "\n",
    "# Calculando o valor esperado para cada opção\n",
    "valor_esperado_d12 = np.mean(jogadas_d12)\n",
    "valor_esperado_2d6 = np.mean(jogadas_2d6)\n",
    "\n",
    "# Plotando os gráficos de barras\n",
    "plt.figure(figsize=(12, 6))\n",
    "\n",
    "# Gráfico para 1 dado de 12 faces\n",
    "plt.subplot(1, 2, 1)\n",
    "plt.hist(jogadas_d12, bins=np.arange(1, 14) - 0.5, edgecolor='black', color='skyblue', rwidth=0.8)\n",
    "plt.xticks(np.arange(1, 13))\n",
    "plt.title(f'1 Dado de 12 Faces (Valor Esperado = {valor_esperado_d12:.2f})')\n",
    "plt.xlabel('Resultado')\n",
    "plt.ylabel('Frequência')\n",
    "\n",
    "# Gráfico para 2 dados de 6 faces\n",
    "plt.subplot(1, 2, 2)\n",
    "plt.hist(jogadas_2d6, bins=np.arange(2, 13) - 0.5, edgecolor='black', color='lightgreen', rwidth=0.8)\n",
    "plt.xticks(np.arange(2, 13))\n",
    "plt.title(f'2 Dados de 6 Faces (Valor Esperado = {valor_esperado_2d6:.2f})')\n",
    "plt.xlabel('Resultado')\n",
    "plt.ylabel('Frequência')\n",
    "\n",
    "plt.tight_layout()\n",
    "plt.show()\n",
    "\n",
    "\n",
    "# #Simulacoes\n",
    "# num_simulacoes = 10000\n",
    "\n",
    "\n",
    "# # Joga dado 1\n",
    "\n",
    "# # Joga dado 2\n",
    "\n",
    "# # Soma dados\n",
    "\n",
    "# # Joga dado 3\n"
   ]
  }
 ],
 "metadata": {
  "kernelspec": {
   "display_name": "Python 3 (ipykernel)",
   "language": "python",
   "name": "python3"
  },
  "language_info": {
   "codemirror_mode": {
    "name": "ipython",
    "version": 3
   },
   "file_extension": ".py",
   "mimetype": "text/x-python",
   "name": "python",
   "nbconvert_exporter": "python",
   "pygments_lexer": "ipython3",
   "version": "3.12.5"
  }
 },
 "nbformat": 4,
 "nbformat_minor": 5
}
