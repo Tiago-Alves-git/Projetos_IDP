{
 "cells": [
  {
   "cell_type": "markdown",
   "metadata": {},
   "source": [
    "# Estudando distribuições de Probabilidade\n",
    "\n",
    "O objetivos das próximas aulas é entender os conceitos de distribuição de probabilidades, dentre elas, as mais conhecidas **Binomial**, **Normal** e **de Poisson**.\n",
    "\n",
    "Quais as distribuições de probabilidade que vocês conhecem?\n",
    "Qual o motivo/importância de conhecer mais de uma distribuição de probabilidade?\n",
    "Qual a diferença e quando utilizar diferentes distribuições de probabilidade?\n",
    "\n",
    "## Problemas motivadores\n",
    "1) Vocês vão jogar uma moeda viciada, no qual a probabilidade de sair cara é 60%. Jogando a moeda 1000 vezes, quantas vezes espera-se que saia coroa?\n",
    "\n",
    "2) Vocês trabalham no setor de qualidade de uma granja e precisarão analisar dados referentes à perdas por embalagem de 20 unidades. Sabendo que precisa de um intervalo de 95% de confiança para seu estudo e o limite de perdas é 2 ovos por embalagem, calcule a probabilidade de que as cartelas de ovos cheguem com no máximo 2 ovos quebrados.\n",
    "\n",
    "Após os dois cálculos, o que os dois problemas hipotéticos têm em comum?"
   ]
  },
  {
   "cell_type": "markdown",
   "metadata": {},
   "source": [
    "## Quais as distribuições de probabilidade que vocês conhecem?\n",
    "Antes do exercicio, conhecia apenas a Normal.\n",
    "## Qual o motivo/importância de conhecer mais de uma distribuição de probabilidade?\n",
    "Acredito que ter repertorio para lidar com diferentes problemas\n",
    "## Qual a diferença e quando utilizar diferentes distribuições de probabilidade?\n",
    "1. Distribuição Binomial\n",
    "Características: Modela o número de sucessos em um número fixo de ensaios independentes, onde cada ensaio tem dois possíveis resultados: sucesso ou falha. A probabilidade de sucesso é a mesma em cada ensaio.\n",
    "Quando usar:\n",
    "Quando há um número fixo de tentativas (ensaios).\n",
    "Quando há apenas dois resultados possíveis em cada ensaio (sucesso ou falha).\n",
    "Quando os ensaios são independentes.\n",
    "2. Distribuição de Poisson\n",
    "Características: Modela o número de eventos que ocorrem em um intervalo de tempo ou espaço fixo, onde os eventos ocorrem independentemente e com uma taxa constante.\n",
    "Quando usar:\n",
    "Quando se quer modelar a ocorrência de eventos raros num intervalo contínuo (tempo, área, volume, etc.).\n",
    "Quando o número de eventos é pequeno em relação ao número de tentativas possíveis.\n",
    "Exemplo:\n",
    "Número de chamadas recebidas por um call center em uma hora."
   ]
  },
  {
   "cell_type": "code",
   "execution_count": null,
   "metadata": {
    "vscode": {
     "languageId": "plaintext"
    }
   },
   "outputs": [],
   "source": [
    "import numpy as np\n",
    "from scipy.stats import binom, poisson, norm\n",
    "import matplotlib.pyplot as plt\n",
    "\n",
    "# Problema 1: Moeda viciada\n",
    "# Probabilidade de sair coroa (1 - probabilidade de sair cara)\n",
    "prob_cara = 0.60\n",
    "prob_coroa = 1 - prob_cara\n",
    "n_jogadas = 1000\n",
    "\n",
    "# Esperança de quantas vezes sai coroa\n",
    "esperanca_coroa = prob_coroa * n_jogadas\n",
    "\n",
    "# Problema 2: Perdas de ovos (Distribuição Binomial)\n",
    "# Número de ovos por embalagem\n",
    "n_ovos = 20\n",
    "# Limite de perdas aceitável\n",
    "max_perdas = 2\n",
    "# Probabilidade de um ovo quebrar (estimada)\n",
    "p_quebrado = 0.1  # Vamos assumir que 10% dos ovos quebram, pode ser ajustado.\n",
    "\n",
    "# Calcular a probabilidade de ter no máximo 2 ovos quebrados (usando distribuição binomial)\n",
    "prob_ate_2_quebrados = binom.cdf(max_perdas, n_ovos, p_quebrado)\n",
    "\n",
    "# Outputs\n",
    "esperanca_coroa, prob_ate_2_quebrados\n"
   ]
  },
  {
   "cell_type": "markdown",
   "metadata": {},
   "source": [
    "1) Ao jogar uma moeda com probabilidade de 60% de sair cara 1000 vezes, espera-se que saia coroa 400 vezes.\n",
    "2) O que os dois problemas têm em comum é que ambos envolvem a aplicação de distribuições de probabilidade para modelar eventos discretos. O primeiro utiliza uma distribuição binomial para calcular a expectativa de eventos (coroas) com uma probabilidade fixa, e o segundo também usa a binomial para calcular a probabilidade de um número máximo de eventos (ovos quebrados) ocorrer."
   ]
  }
 ],
 "metadata": {
  "language_info": {
   "name": "python"
  }
 },
 "nbformat": 4,
 "nbformat_minor": 2
}
