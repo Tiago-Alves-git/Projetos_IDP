{
 "cells": [
  {
   "cell_type": "code",
   "execution_count": null,
   "metadata": {},
   "outputs": [],
   "source": [
    "import pandas as pd\n",
    "import seaborn as sns\n",
    "import matplotlib.pyplot as plt\n",
    "\n",
    "\n",
    "# Carrega os dados do arquivo CSV\n",
    "dados = pd.read_csv('TabelaSalarial.csv')\n",
    "dados.head()\n",
    "dados.describe()\n",
    "\n",
    "# Identifica as colunas categóricas e numéricas\n",
    "dados_numericos = dados.select_dtypes(include=['float64', 'int64'])\n",
    "dados_categoricos = dados.select_dtypes(exclude=['float64', 'int64'])\n",
    "\n",
    "sns.histplot(dados, x=\"Salario (x Sal Min)\", hue=\"Grau de Instrução\", multiple=\"stack\")\n",
    "plt.suptitle('Histogramas das Variáveis Salario e Instrução', fontsize=16)\n",
    "plt.show()\n",
    "\n",
    "sns.histplot(dados, x = \"Salario (x Sal Min)\", kde = True, hue = \"Grau de Instrução\")\n",
    "plt.suptitle('Histogramas das Variáveis Salario e Instrução com HUE ativada', fontsize=16)\n",
    "plt.show()\n",
    "\n",
    "\n",
    "# Não tive muita criatividade em 1 dia para pensar em uma analise diferente das que foram apresentadas em sala. Então fiz essa simples\n",
    "\n",
    "# Distribuição de Salários por Grau de Instrução:\n",
    "\n",
    "# Ensino Fundamental: A maioria dos funcionários com ensino fundamental parece ter salários entre 5 a 10 salários mínimos. Isso sugere uma distribuição de salários mais concentrada em faixas salariais mais baixas.\n",
    "# Ensino Médio: Os funcionários com ensino médio mostram uma faixa de salário mais ampla, embora ainda com uma concentração significativa entre 7.5 e 12.5 salários mínimos.\n",
    "# Ensino Superior: A distribuição salarial para funcionários com ensino superior é mais dispersa, com alguns alcançando mais de 20 salários mínimos. Isso indica que o grau de instrução está positivamente correlacionado com salários mais altos.\n",
    "\n",
    "# Comparação com Kernel Density Estimate (KDE):\n",
    "\n",
    "# O uso do KDE ajuda a visualizar a distribuição suavizada dos dados. \n",
    "# Para o ensino superior, a linha KDE é mais dispersa, o que indica uma maior variabilidade nos salários para esse grupo.\n",
    "#  Já para o ensino fundamental, a curva é mais concentrada, refletindo uma menor variação salarial."
   ]
  }
 ],
 "metadata": {
  "language_info": {
   "name": "python"
  }
 },
 "nbformat": 4,
 "nbformat_minor": 2
}
