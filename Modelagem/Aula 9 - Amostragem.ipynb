{
 "cells": [
  {
   "cell_type": "markdown",
   "metadata": {},
   "source": [
    "# Teoria da Amostragem (conceitos breves...)\n",
    "\n",
    "A teoria da amostragem é um estudos das relações existentes entre uma população e as amostras dela extraídas. É de grande valia para a avaliação de grandezas desconhecidas da população (como sua média, variância e desvio padrão), frequentemente denominadas **_parâmetros populacionais_** ou abreviadamente **_parâmetros_**, através do conhecimento das grandezas correspondentes das amostras (também como média, desvio padrão, etc...) muitas vezes denominadas **_estatísticas amostrais_** ou, abreviadamente **_estatísticas_**.\n",
    "\n",
    "A teoria da amostragem também é útil para determinar se as difereças observadas entre duas amostras são realmente devidas a uma variação casual ou se são verdadeiramente significativas. Exemplos dessas diferenças são utilizados por exemplo em amostragem de testes clínicos, de produção ou em processos de aferição de qualidade. \n",
    "\n",
    "A **_inferência estatística_** nada mais é do que o estudo de uma população a partir de suas amostras, com a indicação da precisão destas inferências baseadas pelo conhecimento da teoria da probabilidade.\n",
    "\n",
    "**Amostras Aleatórias** são amostras selecionadas (um subconjunto de indivíduos ou objetos) a partir de uma população maior (um grupo completo de indivíduos ou objetos), de forma que cada membro da população tenha uma chance igual de ser escolhido. Tais amostras são desejáveis porque tendem a ser representativas da população e minimizam os vieses na análise.\n",
    "\n",
    "Pense na amostragem aleatória como um sorteio. Por exemplo, se você quiser estudar as opiniões dos habitantes de uma cidade sobre um tema específico, seria muito difícil e cansativo entrevistar todos os moradores. Então, em vez disso, você pode realizar uma amostragem aleatória, selecionando um número menor de habitantes de forma aleatória e imparcial. Assim, todos os moradores têm a mesma chance de serem escolhidos, e a amostra resultante pode ser usada para inferir informações sobre a população como um todo.\n",
    "\n",
    "Essa abordagem permite que os pesquisadores façam generalizações e estimativas sobre a população maior com base nos dados coletados da amostra. Quando a amostragem aleatória é realizada corretamente, a amostra tende a refletir as características da população maior, tornando as análises mais precisas e confiáveis.\n",
    "\n",
    "Há várias técnicas para escolher uma amostra que represente bem a população maior. Aqui, vamos falar sobre quatro dessas técnicas:\n",
    "\n",
    "- Amostragem Aleatória Simples\n",
    "- Amostragem Sistemática\n",
    "- Amostragem Aleatória Estratificada\n",
    "- Amostragem por Conglomerado\n",
    "\n",
    "Para muitos casos, tipo a distribuição de médias, o teorema central do limite vai nos ajudar teoricamente, pois sabemos que os dados da ditribuição de amostragem converge para uma normal. Assim, para amostras maiores que 25 ($ N>25$) as amostras tendem a se comportar como uma distribuição normal, e o conhecimento da distribuição normal torna-se útil para facilitar a análise e possíveis inferências sobre a população. Embora se fala muito de big data, na prática, são boas amostras que são utilizadas para responder boas (e a maioria das) perguntas.\n",
    "\n",
    "## Amostragem aleatória simples\n",
    "\n",
    "Na amostragem aleatória simples, cada elemento da população tem a mesma chance de ser selecionado. Por exemplo, ao realizar uma pesquisa de opinião, podemos selecionar aleatoriamente um grupo de pessoas para entrevistar. Nesse método, escolhemos um grupo de pessoas ou coisas de forma completamente aleatória, dando a todos na população a mesma chance de serem selecionados.\n",
    "\n",
    "Para trabalhar a ideia de amostragem, vamos utilizar o arquivo **diamonds.csv**.\n"
   ]
  },
  {
   "cell_type": "code",
   "execution_count": null,
   "metadata": {},
   "outputs": [],
   "source": [
    "import numpy as np\n",
    "import matplotlib.pyplot as plt\n",
    "import pandas as pd\n",
    "import seaborn as sns\n",
    "import random"
   ]
  },
  {
   "cell_type": "code",
   "execution_count": null,
   "metadata": {},
   "outputs": [],
   "source": [
    "df = pd.read_csv('diamonds.csv')\n",
    "df.head()"
   ]
  },
  {
   "cell_type": "code",
   "execution_count": null,
   "metadata": {},
   "outputs": [],
   "source": [
    "sns.distplot(df['carat'])"
   ]
  },
  {
   "cell_type": "code",
   "execution_count": null,
   "metadata": {},
   "outputs": [],
   "source": [
    "## Explique o que este código está fazendo está fazendo\n",
    "## np.random.seed(1)\n",
    "\n",
    "amostra_simples = df.sample(frac=0.20)\n",
    "\n",
    "amostra_simples.shape"
   ]
  },
  {
   "cell_type": "code",
   "execution_count": null,
   "metadata": {},
   "outputs": [],
   "source": [
    "\"Esse código está pegando uma amostra aleatória de 20% dos dados que estão no arquivo df. (Que são dados lidos da tabela diamonds.csv).\n",
    "\n",
    "\"df.sample(frac=0.20) significa que vamos selecionar aleatoriamente 20% das linhas da tabela, sem olhar para o conteúdo delas, só escolhendo aleatoriamente.\"\n",
    "\n",
    "\".shape é uma forma de perguntar para o código quantas linhas e colunas tem na amostra escolhida. Então, ele vai te dizer quantas entradas (linhas) e quantas características (colunas) a amostra tem depois de selecionar os 20%.\""
   ]
  },
  {
   "cell_type": "code",
   "execution_count": null,
   "metadata": {},
   "outputs": [],
   "source": [
    "## Explique o que este código está fazendo está fazendo\n",
    "## np.random.seed(2)\n",
    "\n",
    "amostra_simples1 = df.sample(15000)\n",
    "\n",
    "amostra_simples1.shape"
   ]
  },
  {
   "source": [
    "\"o código está pegando 15000 linhas aleatórias do conjunto de dados\"\n",
    "\n",
    "\"df.sample(15000) vai selecionar 15.000 linhas aleatórias do df. Note que, nesse caso, não estamos usando a porcentagem (frac), mas sim o número exato de linhas que queremos (15.000).\n",
    "\"\n",
    "\".shape vai mostrar o número de linhas e colunas da amostra criada, então, como temos 15.000 linhas, ele vai te mostrar algo como (15000, X), onde X é o número de colunas do conjunto de dados.\""
   ],
   "cell_type": "code",
   "metadata": {},
   "execution_count": null,
   "outputs": []
  },
  {
   "cell_type": "markdown",
   "metadata": {},
   "source": [
    "## Amostragem Sistemática\n",
    "\n",
    "Aqui, seleciona-se a amostra seguindo um padrão específico pré-estabelecido. Esse método é útil quando temos uma lista organizada da população e queremos garantir uma distribuição mais uniforme dos elementos selecionados."
   ]
  },
  {
   "cell_type": "code",
   "execution_count": null,
   "metadata": {},
   "outputs": [],
   "source": [
    "## Explique o que este código está fazendo está fazendo\n",
    "## np.random.seed(3)\n",
    "\n",
    "aleatorio = np.random.choice(10)\n",
    "\n",
    "amostra_sistematica = np.arange(aleatorio,15000,150)\n",
    "amostra_sistematica"
   ]
  },
  {
   "cell_type": "code",
   "execution_count": null,
   "metadata": {},
   "outputs": [],
   "source": [
    "\"está criando uma amostra sistemática a partir de uma posição aleatória\n",
    "\"\n",
    "\"np.random.choice(10) escolhe um número aleatório entre 0 e 9. Então, ele pode escolher qualquer número de 0 a 9 como o ponto de partida.\n",
    "\"\n",
    "\"np.arange(aleatorio, 15000, 150) cria uma lista de números que começa no número aleatório que escolhemos, vai até 15.000 e pula de 150 em 150. Isso é chamado de amostragem sistemática porque começamos de um ponto aleatório e depois escolhemos elementos a cada 150 posições (em uma espécie de \"passo fixo\").\""
   ]
  },
  {
   "cell_type": "code",
   "execution_count": null,
   "metadata": {},
   "outputs": [],
   "source": [
    "## Explique o que este código está fazendo está fazendo\n",
    "## np.random.seed(4)\n",
    "\n",
    "aleatorio = np.random.choice(10,1)\n",
    "passo = np.random.randint(120,300,1)\n",
    "print(passo)\n",
    "amostra_sistematica2 = np.arange(aleatorio,15000,passo)\n",
    "amostra_sistematica2"
   ]
  },
  {
   "cell_type": "code",
   "execution_count": null,
   "metadata": {},
   "outputs": [],
   "source": [
    "\"também está fazendo amostragem sistemática, mas de forma um pouco diferente\"\n",
    "\n",
    "\"np.random.choice(10, 1) escolhe um número aleatório entre 0 e 9, como no código anterior, mas agora é garantido que só vai escolher um único número\"\n",
    "\n",
    "\"np.random.randint(120, 300, 1) escolhe aleatoriamente um número entre 120 e 300. Esse número será o ´passo´ (a distância entre os números que serão selecionados).\n",
    "\"\n",
    "\n",
    "\"np.arange(aleatorio, 15000, passo) vai criar uma sequência de números começando pelo número aleatório e indo até 15.000, mas agora o passo (a distância entre os números escolhidos) vai ser o valor aleatório gerado pela função np.random.randint(120, 300, 1)\""
   ]
  },
  {
   "cell_type": "markdown",
   "metadata": {},
   "source": [
    "## Amostragem Estratificada\n",
    "\n",
    "Nessa abordagem, divide-se a população em grupos menores homogêneos, chamados estratos, com base em alguma característica comum. Depois, seleciona-se uma amostra de cada estrato, proporcionalmente ao tamanho do estrato, usando amostragem simples ou sistemática. Isso garante que a amostra seja representativa de cada subgrupo da população."
   ]
  },
  {
   "cell_type": "code",
   "execution_count": null,
   "metadata": {},
   "outputs": [],
   "source": [
    "## Explique o que este código está fazendo está fazendo\n",
    "df['cut'].value_counts()"
   ]
  },
  {
   "cell_type": "code",
   "execution_count": null,
   "metadata": {},
   "outputs": [],
   "source": [
    "\"está contando quantas vezes cada valor da coluna 'cut' aparece no conjunto de dados df.\n",
    "\"\n",
    "df['cut'] pega a coluna cut, que é uma característica que pode ter diferentes valores, como \"Fair\", \"Good\", \"Very Good\", etc.\n",
    "value_counts() conta quantas vezes cada valor diferente aparece na coluna cut. Então, ele vai te mostrar, por exemplo:\n",
    "\n",
    "\"Fair\": 500\n",
    "\"Good\": 1500\n",
    "\"Very Good\": 3000\n",
    "e assim por diante.\n",
    "\n",
    "Isso é útil quando você quer ver a distribuição dos dados, ou seja, quantos itens existem em cada categoria."
   ]
  },
  {
   "cell_type": "markdown",
   "metadata": {},
   "source": [
    "### Exercício 1\n",
    "\n",
    "Divida a população, selecionando os casos pela variável 'cut', em amostras aleatórias de 20%"
   ]
  },
  {
   "cell_type": "code",
   "execution_count": null,
   "metadata": {},
   "outputs": [],
   "source": [
    "import pandas as pd\n",
    "\n",
    "df = pd.read_csv('diamonds.csv')\n",
    "\n",
    "# Dividir a população em amostras aleatórias de 20% para cada grupo de 'cut'\n",
    "amostra_20 = df.groupby('cut', group_keys=False).apply(lambda x: x.sample(frac=0.2, random_state=42))\n",
    "\n",
    "print(amostra_20.head())\n"
   ]
  },
  {
   "cell_type": "markdown",
   "metadata": {},
   "source": [
    "### Exercício 2\n",
    "\n",
    "Faça uma amostra com 20000 entradas, mantendo a proporção da variável 'cut' tal qual o arquivo original\n"
   ]
  },
  {
   "cell_type": "code",
   "execution_count": null,
   "metadata": {},
   "outputs": [],
   "source": [
    "from sklearn.model_selection import train_test_split\n",
    "\n",
    "df = pd.read_csv('diamonds.csv')\n",
    "\n",
    "# Realizar uma amostragem estratificada para manter a proporção da variável 'cut'\n",
    "amostra_20000, _ = train_test_split(df, stratify=df['cut'], train_size=20000, random_state=42)\n",
    "\n",
    "print(amostra_20000.head())\n"
   ]
  },
  {
   "cell_type": "markdown",
   "metadata": {},
   "source": [
    "### Exercício 3\n",
    "\n",
    "Plote histogramas para a variável quilate do arquivo original e de todas as amostras que vocês criaram em aula. Os resultados foram análogos?"
   ]
  },
  {
   "cell_type": "code",
   "execution_count": null,
   "metadata": {},
   "outputs": [],
   "source": [
    "import matplotlib.pyplot as plt\n",
    "import seaborn as sns\n",
    "\n",
    "df = pd.read_csv('diamonds.csv')\n",
    "\n",
    "# Plotando histograma para o dataset original\n",
    "plt.figure(figsize=(10, 6))\n",
    "sns.histplot(df['carat'], kde=True, color='blue', label='Original', stat='density')\n",
    "\n",
    "# Plotando histograma para a amostra de 20% (Exercício 1)\n",
    "sns.histplot(amostra_20['carat'], kde=True, color='red', label='Amostra 20% (cut)', stat='density')\n",
    "\n",
    "# Plotando histograma para a amostra de 20.000 entradas (Exercício 2)\n",
    "sns.histplot(amostra_20000['carat'], kde=True, color='green', label='Amostra 20000 (cut)', stat='density')\n",
    "\n",
    "plt.title('Histograma da variável Carat')\n",
    "plt.xlabel('Carat')\n",
    "plt.ylabel('Densidade')\n",
    "plt.legend()\n",
    "plt.show()\n"
   ]
  },
  {
   "cell_type": "markdown",
   "metadata": {},
   "source": [
    "### Referência\n",
    "\n",
    "Estatística para Análise de Dados com Python (Prof. Luciano Galdino)\n",
    "\n",
    "https://medium.com/@pablovictords/estat%C3%ADstica-na-pr%C3%A1tica-com-python-amostragem-aleat%C3%B3ria-7f252495e042\n",
    "\n",
    "https://icd-ufmg.github.io/08-amostragem/"
   ]
  }
 ],
 "metadata": {
  "language_info": {
   "name": "python"
  }
 },
 "nbformat": 4,
 "nbformat_minor": 2
}